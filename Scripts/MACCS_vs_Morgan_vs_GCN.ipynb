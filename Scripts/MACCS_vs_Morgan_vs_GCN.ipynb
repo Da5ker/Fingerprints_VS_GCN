{
  "nbformat": 4,
  "nbformat_minor": 0,
  "metadata": {
    "colab": {
      "provenance": []
    },
    "kernelspec": {
      "name": "python3",
      "display_name": "Python 3"
    },
    "language_info": {
      "name": "python"
    }
  },
  "cells": [
    {
      "cell_type": "code",
      "source": [
        "!pip install rdkit\n",
        "!pip install torch_geometric"
      ],
      "metadata": {
        "colab": {
          "base_uri": "https://localhost:8080/"
        },
        "id": "bauHRcDrfyTM",
        "outputId": "b58b7e8b-393c-480e-e444-e386be55b40d"
      },
      "execution_count": 14,
      "outputs": [
        {
          "output_type": "stream",
          "name": "stdout",
          "text": [
            "Requirement already satisfied: rdkit in /usr/local/lib/python3.10/dist-packages (2023.9.6)\n",
            "Requirement already satisfied: numpy in /usr/local/lib/python3.10/dist-packages (from rdkit) (1.25.2)\n",
            "Requirement already satisfied: Pillow in /usr/local/lib/python3.10/dist-packages (from rdkit) (9.4.0)\n",
            "Requirement already satisfied: torch_geometric in /usr/local/lib/python3.10/dist-packages (2.5.3)\n",
            "Requirement already satisfied: tqdm in /usr/local/lib/python3.10/dist-packages (from torch_geometric) (4.66.4)\n",
            "Requirement already satisfied: numpy in /usr/local/lib/python3.10/dist-packages (from torch_geometric) (1.25.2)\n",
            "Requirement already satisfied: scipy in /usr/local/lib/python3.10/dist-packages (from torch_geometric) (1.11.4)\n",
            "Requirement already satisfied: fsspec in /usr/local/lib/python3.10/dist-packages (from torch_geometric) (2023.6.0)\n",
            "Requirement already satisfied: jinja2 in /usr/local/lib/python3.10/dist-packages (from torch_geometric) (3.1.4)\n",
            "Requirement already satisfied: aiohttp in /usr/local/lib/python3.10/dist-packages (from torch_geometric) (3.9.5)\n",
            "Requirement already satisfied: requests in /usr/local/lib/python3.10/dist-packages (from torch_geometric) (2.31.0)\n",
            "Requirement already satisfied: pyparsing in /usr/local/lib/python3.10/dist-packages (from torch_geometric) (3.1.2)\n",
            "Requirement already satisfied: scikit-learn in /usr/local/lib/python3.10/dist-packages (from torch_geometric) (1.2.2)\n",
            "Requirement already satisfied: psutil>=5.8.0 in /usr/local/lib/python3.10/dist-packages (from torch_geometric) (5.9.5)\n",
            "Requirement already satisfied: aiosignal>=1.1.2 in /usr/local/lib/python3.10/dist-packages (from aiohttp->torch_geometric) (1.3.1)\n",
            "Requirement already satisfied: attrs>=17.3.0 in /usr/local/lib/python3.10/dist-packages (from aiohttp->torch_geometric) (23.2.0)\n",
            "Requirement already satisfied: frozenlist>=1.1.1 in /usr/local/lib/python3.10/dist-packages (from aiohttp->torch_geometric) (1.4.1)\n",
            "Requirement already satisfied: multidict<7.0,>=4.5 in /usr/local/lib/python3.10/dist-packages (from aiohttp->torch_geometric) (6.0.5)\n",
            "Requirement already satisfied: yarl<2.0,>=1.0 in /usr/local/lib/python3.10/dist-packages (from aiohttp->torch_geometric) (1.9.4)\n",
            "Requirement already satisfied: async-timeout<5.0,>=4.0 in /usr/local/lib/python3.10/dist-packages (from aiohttp->torch_geometric) (4.0.3)\n",
            "Requirement already satisfied: MarkupSafe>=2.0 in /usr/local/lib/python3.10/dist-packages (from jinja2->torch_geometric) (2.1.5)\n",
            "Requirement already satisfied: charset-normalizer<4,>=2 in /usr/local/lib/python3.10/dist-packages (from requests->torch_geometric) (3.3.2)\n",
            "Requirement already satisfied: idna<4,>=2.5 in /usr/local/lib/python3.10/dist-packages (from requests->torch_geometric) (3.7)\n",
            "Requirement already satisfied: urllib3<3,>=1.21.1 in /usr/local/lib/python3.10/dist-packages (from requests->torch_geometric) (2.0.7)\n",
            "Requirement already satisfied: certifi>=2017.4.17 in /usr/local/lib/python3.10/dist-packages (from requests->torch_geometric) (2024.2.2)\n",
            "Requirement already satisfied: joblib>=1.1.1 in /usr/local/lib/python3.10/dist-packages (from scikit-learn->torch_geometric) (1.4.2)\n",
            "Requirement already satisfied: threadpoolctl>=2.0.0 in /usr/local/lib/python3.10/dist-packages (from scikit-learn->torch_geometric) (3.5.0)\n"
          ]
        }
      ]
    },
    {
      "cell_type": "code",
      "execution_count": 15,
      "metadata": {
        "id": "_ilcdYojfI1p"
      },
      "outputs": [],
      "source": [
        "import numpy as np\n",
        "import pandas as pd\n",
        "from tqdm import tqdm\n",
        "from sklearn.model_selection import train_test_split\n",
        "from sklearn.metrics import r2_score\n",
        "from timeit import default_timer as timer\n",
        "import matplotlib.pyplot as plt\n",
        "# RDkit\n",
        "from rdkit import Chem\n",
        "from rdkit.Chem.rdmolops import GetAdjacencyMatrix\n",
        "from rdkit.Chem.Crippen import MolLogP\n",
        "from rdkit.Chem.rdMolDescriptors import GetMACCSKeysFingerprint\n",
        "from rdkit.Chem import AllChem\n",
        "# Pytorch\n",
        "import torch\n",
        "from torch.nn import Linear, MSELoss\n",
        "import torch.nn.functional as F\n",
        "from torch_geometric.data import Data\n",
        "from torch_geometric.nn import MessagePassing, GCNConv, aggr, pool\n",
        "from torch_geometric.data import DataLoader as PGDataLoader\n",
        "from torch.utils.data import DataLoader\n",
        "\n",
        "device = torch.device(\"cuda\") if torch.cuda.is_available() else torch.device(\"cpu\")"
      ]
    },
    {
      "cell_type": "code",
      "source": [
        "df_smiles = pd.read_csv('./smiles_dataset.csv')\n",
        "df_smiles.info()"
      ],
      "metadata": {
        "colab": {
          "base_uri": "https://localhost:8080/"
        },
        "id": "1NRNUenYgRfo",
        "outputId": "6d394204-fc02-4549-ed48-158e1ceecfe9"
      },
      "execution_count": 16,
      "outputs": [
        {
          "output_type": "stream",
          "name": "stdout",
          "text": [
            "<class 'pandas.core.frame.DataFrame'>\n",
            "RangeIndex: 10000 entries, 0 to 9999\n",
            "Data columns (total 2 columns):\n",
            " #   Column  Non-Null Count  Dtype \n",
            "---  ------  --------------  ----- \n",
            " 0   mol_id  10000 non-null  object\n",
            " 1   smiles  10000 non-null  object\n",
            "dtypes: object(2)\n",
            "memory usage: 156.4+ KB\n"
          ]
        }
      ]
    },
    {
      "cell_type": "code",
      "source": [
        "train_df, test_df = train_test_split(df_smiles, test_size=0.2, random_state=13)"
      ],
      "metadata": {
        "id": "W9rzWstsuaAR"
      },
      "execution_count": 17,
      "outputs": []
    },
    {
      "cell_type": "markdown",
      "source": [
        "# Работа с MACCS fingerprints"
      ],
      "metadata": {
        "id": "i56IuenlB1pa"
      }
    },
    {
      "cell_type": "code",
      "source": [
        "# Создание данных с фингерпринтами молекул и LogP\n",
        "def create_maccs_fingerprint_data(dataset: pd.DataFrame):\n",
        "    data_list = []\n",
        "\n",
        "    smiles_series = dataset['smiles']\n",
        "    molecules = [Chem.MolFromSmiles(smiles) for smiles in smiles_series] # преобразуем SMILES в rdkit молекулы\n",
        "\n",
        "    for mol in tqdm(molecules):\n",
        "        logp = MolLogP(mol) # выгружаем LogP\n",
        "        fingerprint = GetMACCSKeysFingerprint(mol).ToList() # создаём MACCS фингерпринты\n",
        "        data_list.append(list(fingerprint) + [logp])\n",
        "\n",
        "    data = np.array(data_list, dtype=np.float32)\n",
        "    return data"
      ],
      "metadata": {
        "id": "LOI2ieo_B7Ky"
      },
      "execution_count": 18,
      "outputs": []
    },
    {
      "cell_type": "code",
      "source": [
        "maccs_train = create_maccs_fingerprint_data(train_df)\n",
        "maccs_test = create_maccs_fingerprint_data(test_df)\n",
        "print('\\n', maccs_train.shape, maccs_test.shape)"
      ],
      "metadata": {
        "colab": {
          "base_uri": "https://localhost:8080/"
        },
        "id": "hddbU8qxC00g",
        "outputId": "cca91944-f620-4242-a7eb-931c8e1ae1d9"
      },
      "execution_count": 19,
      "outputs": [
        {
          "output_type": "stream",
          "name": "stderr",
          "text": [
            "100%|██████████| 8000/8000 [00:11<00:00, 721.78it/s]\n",
            "100%|██████████| 2000/2000 [00:02<00:00, 722.84it/s]\n"
          ]
        },
        {
          "output_type": "stream",
          "name": "stdout",
          "text": [
            "\n",
            " (8000, 168) (2000, 168)\n"
          ]
        }
      ]
    },
    {
      "cell_type": "code",
      "source": [
        "class Net(torch.nn.Module):\n",
        "    def __init__(self, input_size):\n",
        "        super(Net, self).__init__()\n",
        "        self.fc1 = Linear(input_size, 200)\n",
        "        self.fc2 = Linear(200, 30)\n",
        "        self.fc3 = Linear(30, 1)\n",
        "\n",
        "    def forward(self, data):\n",
        "        x = self.fc1(data)\n",
        "        x = F.relu(x)\n",
        "        x = self.fc2(x)\n",
        "\n",
        "        return x"
      ],
      "metadata": {
        "id": "QydD6dwtv6qz"
      },
      "execution_count": 20,
      "outputs": []
    },
    {
      "cell_type": "code",
      "source": [
        "model = Net(167)\n",
        "\n",
        "# create dataloader for training\n",
        "batch_size = 10\n",
        "train_dataloader = DataLoader(dataset = maccs_train, batch_size = batch_size, shuffle = True)\n",
        "test_dataloader = DataLoader(dataset = maccs_test, batch_size = batch_size, shuffle = False)\n",
        "\n",
        "# define loss function\n",
        "loss_function = MSELoss()\n",
        "\n",
        "# define optimiser\n",
        "optimiser = torch.optim.Adam(model.parameters(), lr = 1e-3)\n",
        "\n",
        "EPOCHS = 100"
      ],
      "metadata": {
        "id": "ZC8CQnxzDXps"
      },
      "execution_count": 21,
      "outputs": []
    },
    {
      "cell_type": "code",
      "source": [
        "def fingerprints_get_r2_score():\n",
        "    y_pred = []\n",
        "    y_real = []\n",
        "    with torch.no_grad():\n",
        "        for (k, batch) in enumerate(test_dataloader):\n",
        "            x, y = batch[:, :-1], batch[:, -1]\n",
        "            output = model(x)\n",
        "            y_pred = np.concatenate([y_pred, np.array(output[:, 0])])\n",
        "            y_real = np.concatenate([y_real, np.array(y)])\n",
        "    return r2_score(y_pred, y_real)"
      ],
      "metadata": {
        "id": "YRFa4qurCyPL"
      },
      "execution_count": 22,
      "outputs": []
    },
    {
      "cell_type": "code",
      "source": [
        "start_time = timer()\n",
        "r2_score_value_maccs = []\n",
        "for epoch in range(1, EPOCHS):\n",
        "\n",
        "    losses = []\n",
        "    losses_test = []\n",
        "    losses_test_scaf = []\n",
        "\n",
        "    # set model to training mode\n",
        "    model.train()\n",
        "\n",
        "    # loop over minibatches for training\n",
        "    for (k, batch) in enumerate(train_dataloader):\n",
        "        # compute current value of loss function via forward pass\n",
        "        x, y = batch[:, :-1], batch[:, -1]\n",
        "        output = model(x)\n",
        "        loss_function_value = loss_function(output[:, 0], y)\n",
        "        losses.append(loss_function_value.detach())\n",
        "\n",
        "        # set past gradient to zero\n",
        "        optimiser.zero_grad()\n",
        "\n",
        "        # compute current gradient via backward pass\n",
        "        loss_function_value.backward()\n",
        "\n",
        "        # update model weights using gradient and optimisation method\n",
        "        optimiser.step()\n",
        "    r2_score_value_maccs.append(fingerprints_get_r2_score())\n",
        "    if epoch % (EPOCHS // 5) == 0:\n",
        "        print('Loss: ', np.mean(losses), ' | Epochs: ', epoch)\n",
        "end_time = timer()"
      ],
      "metadata": {
        "colab": {
          "base_uri": "https://localhost:8080/"
        },
        "id": "6c44iZkCDmWH",
        "outputId": "3f15375e-24c7-4562-db49-676a5d5dbfbc"
      },
      "execution_count": 23,
      "outputs": [
        {
          "output_type": "stream",
          "name": "stdout",
          "text": [
            "Loss:  0.011198325  | Epochs:  20\n",
            "Loss:  0.006462301  | Epochs:  40\n",
            "Loss:  0.004310889  | Epochs:  60\n",
            "Loss:  0.0036084065  | Epochs:  80\n"
          ]
        }
      ]
    },
    {
      "cell_type": "code",
      "source": [
        "print('Maccs Fingerprints R2 score:', fingerprints_get_r2_score())\n",
        "print('Epochs:', EPOCHS)\n",
        "print(f\"Total training time: {end_time-start_time:.3f} seconds\")\n",
        "maccs_time = end_time-start_time"
      ],
      "metadata": {
        "colab": {
          "base_uri": "https://localhost:8080/"
        },
        "id": "JFC66eadDyMT",
        "outputId": "3c357622-fdac-40d4-900f-a9222804968e"
      },
      "execution_count": 24,
      "outputs": [
        {
          "output_type": "stream",
          "name": "stdout",
          "text": [
            "Maccs Fingerprints R2 score: 0.968930005725975\n",
            "Epochs: 100\n",
            "Total training time: 213.737 seconds\n"
          ]
        }
      ]
    },
    {
      "cell_type": "markdown",
      "source": [
        "# Работа с Morgan fingeprints"
      ],
      "metadata": {
        "id": "Bu98bTMduaZi"
      }
    },
    {
      "cell_type": "code",
      "source": [
        "# Создание данных с фингерпринтами молекул и LogP\n",
        "def create_morgan_fingerprint_data(dataset: pd.DataFrame):\n",
        "    data_list = []\n",
        "\n",
        "    smiles_series = dataset['smiles']\n",
        "    molecules = [Chem.MolFromSmiles(smiles) for smiles in smiles_series] # преобразуем SMILES в rdkit молекулы\n",
        "\n",
        "    for mol in tqdm(molecules):\n",
        "        logp = MolLogP(mol) # выгружаем LogP\n",
        "        fingerprint = AllChem.GetMorganFingerprintAsBitVect(mol, radius=2, nBits=2048).ToBitString() # создаём Морган фингерпринты\n",
        "        data_list.append(list(fingerprint) + [logp])\n",
        "\n",
        "    data = np.array(data_list, dtype=np.float32)\n",
        "    return data"
      ],
      "metadata": {
        "id": "1aUxlLbMgvts"
      },
      "execution_count": 25,
      "outputs": []
    },
    {
      "cell_type": "code",
      "source": [
        "fingerprints_train = create_morgan_fingerprint_data(train_df)\n",
        "fingerprints_test = create_morgan_fingerprint_data(test_df)\n",
        "print('\\n', fingerprints_train.shape, fingerprints_test.shape)"
      ],
      "metadata": {
        "colab": {
          "base_uri": "https://localhost:8080/"
        },
        "id": "awtwT4EvkZwr",
        "outputId": "0325ef19-7b02-4929-ac35-c58c4979c755"
      },
      "execution_count": 26,
      "outputs": [
        {
          "output_type": "stream",
          "name": "stderr",
          "text": [
            "100%|██████████| 8000/8000 [00:03<00:00, 2164.09it/s]\n",
            "100%|██████████| 2000/2000 [00:00<00:00, 3516.33it/s]\n"
          ]
        },
        {
          "output_type": "stream",
          "name": "stdout",
          "text": [
            "\n",
            " (8000, 2049) (2000, 2049)\n"
          ]
        }
      ]
    },
    {
      "cell_type": "code",
      "source": [
        "model = Net(2048)\n",
        "\n",
        "# create dataloader for training\n",
        "batch_size = 10\n",
        "train_dataloader = DataLoader(dataset = fingerprints_train, batch_size = batch_size, shuffle = True)\n",
        "test_dataloader = DataLoader(dataset = fingerprints_test, batch_size = batch_size, shuffle = False)\n",
        "\n",
        "# define loss function\n",
        "loss_function = MSELoss()\n",
        "\n",
        "# define optimiser\n",
        "optimiser = torch.optim.Adam(model.parameters(), lr = 1e-3)"
      ],
      "metadata": {
        "id": "tnkw8Sb0yZns"
      },
      "execution_count": 27,
      "outputs": []
    },
    {
      "cell_type": "code",
      "source": [
        "start_time = timer()\n",
        "r2_score_value_fp = []\n",
        "for epoch in range(1, EPOCHS):\n",
        "\n",
        "    losses = []\n",
        "    losses_test = []\n",
        "    losses_test_scaf = []\n",
        "\n",
        "    # set model to training mode\n",
        "    model.train()\n",
        "\n",
        "    # loop over minibatches for training\n",
        "    for (k, batch) in enumerate(train_dataloader):\n",
        "        # compute current value of loss function via forward pass\n",
        "        x, y = batch[:, :-1], batch[:, -1]\n",
        "        output = model(x)\n",
        "        loss_function_value = loss_function(output[:, 0], y)\n",
        "        losses.append(loss_function_value.detach())\n",
        "\n",
        "        # set past gradient to zero\n",
        "        optimiser.zero_grad()\n",
        "\n",
        "        # compute current gradient via backward pass\n",
        "        loss_function_value.backward()\n",
        "\n",
        "        # update model weights using gradient and optimisation method\n",
        "        optimiser.step()\n",
        "    r2_score_value_fp.append(fingerprints_get_r2_score())\n",
        "    if epoch % (EPOCHS // 5) == 0:\n",
        "        print('Loss: ', np.mean(losses), ' | Epochs: ', epoch)\n",
        "end_time = timer()"
      ],
      "metadata": {
        "colab": {
          "base_uri": "https://localhost:8080/"
        },
        "id": "IXHxIej_zCDA",
        "outputId": "d5a2588f-5aa2-48de-e670-c6a95cdfbfbc"
      },
      "execution_count": 28,
      "outputs": [
        {
          "output_type": "stream",
          "name": "stdout",
          "text": [
            "Loss:  0.0072507155  | Epochs:  20\n",
            "Loss:  0.0035060067  | Epochs:  40\n",
            "Loss:  0.0022700152  | Epochs:  60\n",
            "Loss:  0.0016765548  | Epochs:  80\n"
          ]
        }
      ]
    },
    {
      "cell_type": "code",
      "source": [
        "print('Morgan Fingerprints R2 score:', fingerprints_get_r2_score())\n",
        "print('Epochs:', EPOCHS)\n",
        "print(f\"Total training time: {end_time-start_time:.3f} seconds\")\n",
        "fp_time = end_time-start_time"
      ],
      "metadata": {
        "colab": {
          "base_uri": "https://localhost:8080/"
        },
        "id": "r3BCKnWzznQy",
        "outputId": "b1c6be2f-5406-49a6-d682-c89b4d217920"
      },
      "execution_count": 29,
      "outputs": [
        {
          "output_type": "stream",
          "name": "stdout",
          "text": [
            "Morgan Fingerprints R2 score: 0.8827702641141065\n",
            "Epochs: 100\n",
            "Total training time: 941.611 seconds\n"
          ]
        }
      ]
    },
    {
      "cell_type": "markdown",
      "source": [
        "# Работа с GCN"
      ],
      "metadata": {
        "id": "qaNK4Pa_vsJw"
      }
    },
    {
      "cell_type": "code",
      "source": [
        "def one_hot_encoding(x, permitted_list):\n",
        "    \"\"\"\n",
        "    Maps input elements x which are not in the permitted list to the last element\n",
        "    of the permitted list.\n",
        "    \"\"\"\n",
        "\n",
        "    if x not in permitted_list:\n",
        "        x = permitted_list[-1]\n",
        "\n",
        "    binary_encoding = [int(boolean_value) for boolean_value in list(map(lambda s: x == s, permitted_list))]\n",
        "\n",
        "    return binary_encoding\n",
        "\n",
        "\n",
        "def get_atom_features(atom,\n",
        "                      use_chirality = True,\n",
        "                      hydrogens_implicit = True):\n",
        "    \"\"\"\n",
        "    Takes an RDKit atom object as input and gives a 1d-numpy array of atom features as output.\n",
        "    \"\"\"\n",
        "\n",
        "    # define list of permitted atoms\n",
        "\n",
        "    permitted_list_of_atoms =  ['C','N','O','S','F','Si','P','Cl','Br','Mg','Na','Ca','Fe','As','Al','I', 'B','V','K','Tl','Yb','Sb','Sn','Ag','Pd','Co','Se','Ti','Zn', 'Li','Ge','Cu','Au','Ni','Cd','In','Mn','Zr','Cr','Pt','Hg','Pb','Unknown']\n",
        "\n",
        "    if hydrogens_implicit == False:\n",
        "        permitted_list_of_atoms = ['H'] + permitted_list_of_atoms\n",
        "\n",
        "    # compute atom features\n",
        "\n",
        "    atom_type_enc = one_hot_encoding(str(atom.GetSymbol()), permitted_list_of_atoms)\n",
        "\n",
        "    n_heavy_neighbors_enc = one_hot_encoding(int(atom.GetDegree()), [0, 1, 2, 3, 4, \"MoreThanFour\"])\n",
        "\n",
        "    formal_charge_enc = one_hot_encoding(int(atom.GetFormalCharge()), [-3, -2, -1, 0, 1, 2, 3, \"Extreme\"])\n",
        "\n",
        "    hybridisation_type_enc = one_hot_encoding(str(atom.GetHybridization()), [\"S\", \"SP\", \"SP2\", \"SP3\", \"SP3D\", \"SP3D2\", \"OTHER\"])\n",
        "\n",
        "    is_in_a_ring_enc = [int(atom.IsInRing())]\n",
        "\n",
        "    is_aromatic_enc = [int(atom.GetIsAromatic())]\n",
        "\n",
        "    atomic_mass_scaled = [float((atom.GetMass() - 10.812)/116.092)]\n",
        "\n",
        "    vdw_radius_scaled = [float((Chem.GetPeriodicTable().GetRvdw(atom.GetAtomicNum()) - 1.5)/0.6)]\n",
        "\n",
        "    covalent_radius_scaled = [float((Chem.GetPeriodicTable().GetRcovalent(atom.GetAtomicNum()) - 0.64)/0.76)]\n",
        "\n",
        "    atom_feature_vector = atom_type_enc + n_heavy_neighbors_enc + formal_charge_enc + hybridisation_type_enc + is_in_a_ring_enc + is_aromatic_enc + atomic_mass_scaled + vdw_radius_scaled + covalent_radius_scaled\n",
        "\n",
        "    if use_chirality == True:\n",
        "        chirality_type_enc = one_hot_encoding(str(atom.GetChiralTag()), [\"CHI_UNSPECIFIED\", \"CHI_TETRAHEDRAL_CW\", \"CHI_TETRAHEDRAL_CCW\", \"CHI_OTHER\"])\n",
        "        atom_feature_vector += chirality_type_enc\n",
        "\n",
        "    if hydrogens_implicit == True:\n",
        "        n_hydrogens_enc = one_hot_encoding(int(atom.GetTotalNumHs()), [0, 1, 2, 3, 4, \"MoreThanFour\"])\n",
        "        atom_feature_vector += n_hydrogens_enc\n",
        "\n",
        "    return np.array(atom_feature_vector)\n",
        "\n",
        "\n",
        "def get_bond_features(bond,\n",
        "                      use_stereochemistry = True):\n",
        "    \"\"\"\n",
        "    Takes an RDKit bond object as input and gives a 1d-numpy array of bond features as output.\n",
        "    \"\"\"\n",
        "\n",
        "    permitted_list_of_bond_types = [Chem.rdchem.BondType.SINGLE, Chem.rdchem.BondType.DOUBLE, Chem.rdchem.BondType.TRIPLE, Chem.rdchem.BondType.AROMATIC]\n",
        "\n",
        "    bond_type_enc = one_hot_encoding(bond.GetBondType(), permitted_list_of_bond_types)\n",
        "\n",
        "    bond_is_conj_enc = [int(bond.GetIsConjugated())]\n",
        "\n",
        "    bond_is_in_ring_enc = [int(bond.IsInRing())]\n",
        "\n",
        "    bond_feature_vector = bond_type_enc + bond_is_conj_enc + bond_is_in_ring_enc\n",
        "\n",
        "    if use_stereochemistry == True:\n",
        "        stereo_type_enc = one_hot_encoding(str(bond.GetStereo()), [\"STEREOZ\", \"STEREOE\", \"STEREOANY\", \"STEREONONE\"])\n",
        "        bond_feature_vector += stereo_type_enc\n",
        "\n",
        "    return np.array(bond_feature_vector)\n",
        "\n",
        "\n",
        "def create_pytorch_geometric_graph_data_list_from_smiles_and_labels(x_smiles, y):\n",
        "    \"\"\"\n",
        "    Inputs:\n",
        "\n",
        "    x_smiles = [smiles_1, smiles_2, ....] ... a list of SMILES strings\n",
        "    y = [y_1, y_2, ...] ... a list of numerial labels for the SMILES strings (such as associated pKi values)\n",
        "\n",
        "    Outputs:\n",
        "\n",
        "    data_list = [G_1, G_2, ...] ... a list of torch_geometric.data.Data objects which represent labeled molecular graphs that can readily be used for machine learning\n",
        "\n",
        "    \"\"\"\n",
        "\n",
        "    data_list = []\n",
        "\n",
        "    for (smiles, y_val) in tqdm(zip(x_smiles, y), total=len(x_smiles)):\n",
        "        # convert SMILES to RDKit mol object\n",
        "        mol = Chem.MolFromSmiles(smiles)\n",
        "\n",
        "        # get feature dimensions\n",
        "        n_nodes = mol.GetNumAtoms()\n",
        "        n_edges = 2*mol.GetNumBonds()\n",
        "        unrelated_smiles = \"O=O\"\n",
        "        unrelated_mol = Chem.MolFromSmiles(unrelated_smiles)\n",
        "        n_node_features = len(get_atom_features(unrelated_mol.GetAtomWithIdx(0)))\n",
        "        n_edge_features = len(get_bond_features(unrelated_mol.GetBondBetweenAtoms(0,1)))\n",
        "\n",
        "        # construct node feature matrix X of shape (n_nodes, n_node_features)\n",
        "        X = np.zeros((n_nodes, n_node_features))\n",
        "\n",
        "        for atom in mol.GetAtoms():\n",
        "            X[atom.GetIdx(), :] = get_atom_features(atom)\n",
        "\n",
        "        X = torch.tensor(X, dtype = torch.float)\n",
        "\n",
        "        # construct edge index array E of shape (2, n_edges)\n",
        "        (rows, cols) = np.nonzero(GetAdjacencyMatrix(mol))\n",
        "        torch_rows = torch.from_numpy(rows.astype(np.int64)).to(torch.long)\n",
        "        torch_cols = torch.from_numpy(cols.astype(np.int64)).to(torch.long)\n",
        "        E = torch.stack([torch_rows, torch_cols], dim = 0)\n",
        "\n",
        "        # construct edge feature array EF of shape (n_edges, n_edge_features)\n",
        "        EF = np.zeros((n_edges, n_edge_features))\n",
        "\n",
        "        for (k, (i,j)) in enumerate(zip(rows, cols)):\n",
        "\n",
        "            EF[k] = get_bond_features(mol.GetBondBetweenAtoms(int(i),int(j)))\n",
        "\n",
        "        EF = torch.tensor(EF, dtype = torch.float)\n",
        "\n",
        "        # construct label tensor\n",
        "        y_tensor = torch.tensor(np.array([y_val]), dtype = torch.float)\n",
        "        # construct Pytorch Geometric data object and append to data list\n",
        "        data_list.append(Data(x = X, edge_index = E, edge_attr = EF, y = y_tensor))\n",
        "\n",
        "    return data_list"
      ],
      "metadata": {
        "id": "SpFiC0N-3lp0"
      },
      "execution_count": 30,
      "outputs": []
    },
    {
      "cell_type": "code",
      "source": [
        "logp_train = [MolLogP(Chem.MolFromSmiles(x)) for x in train_df['smiles']]\n",
        "logp_test = [MolLogP(Chem.MolFromSmiles(x)) for x in test_df['smiles']]"
      ],
      "metadata": {
        "id": "3D8EEJVt3odW"
      },
      "execution_count": 31,
      "outputs": []
    },
    {
      "cell_type": "code",
      "source": [
        "data_train = create_pytorch_geometric_graph_data_list_from_smiles_and_labels(train_df['smiles'], logp_train)\n",
        "data_test = create_pytorch_geometric_graph_data_list_from_smiles_and_labels(test_df['smiles'], logp_test)"
      ],
      "metadata": {
        "colab": {
          "base_uri": "https://localhost:8080/"
        },
        "id": "rsiHx0e53s__",
        "outputId": "95e98941-9f3f-498c-d136-afcba29e9464"
      },
      "execution_count": 32,
      "outputs": [
        {
          "output_type": "stream",
          "name": "stderr",
          "text": [
            "100%|██████████| 8000/8000 [00:13<00:00, 586.64it/s]\n",
            "100%|██████████| 2000/2000 [00:03<00:00, 595.83it/s]\n"
          ]
        }
      ]
    },
    {
      "cell_type": "code",
      "source": [
        "class GCN(torch.nn.Module):\n",
        "    def __init__(self):\n",
        "        super(GCN, self).__init__()\n",
        "        self.conv1 = GCNConv(79, 32)\n",
        "        self.conv2 = GCNConv(32, 32)\n",
        "        self.lin1 = Linear(32, 16)\n",
        "        self.lin2 = Linear(16, 1)\n",
        "        self.mean_pooling = pool.global_mean_pool\n",
        "\n",
        "    def forward(self, data):\n",
        "        x, edge_index= data.x, data.edge_index\n",
        "        x = self.conv1(x, edge_index)\n",
        "        x = F.relu(x)\n",
        "        x = F.dropout(x, p=0.25, training=self.training)\n",
        "\n",
        "        x = self.conv2(x, edge_index)\n",
        "        x = F.relu(x)\n",
        "\n",
        "        x = self.mean_pooling(x, data.batch)\n",
        "        x = self.lin1(x)\n",
        "        x = F.relu(x)\n",
        "\n",
        "        x = self.lin2(x)\n",
        "        return x"
      ],
      "metadata": {
        "id": "fSzV72aL3yHd"
      },
      "execution_count": 33,
      "outputs": []
    },
    {
      "cell_type": "code",
      "source": [
        "gnn_model = GCN().to(device)"
      ],
      "metadata": {
        "id": "ngTX0VnY3zYL"
      },
      "execution_count": 34,
      "outputs": []
    },
    {
      "cell_type": "code",
      "source": [
        "batch_size = 10\n",
        "\n",
        "# create dataloader for training\n",
        "train_dataloader = PGDataLoader(dataset = data_train, batch_size = batch_size)\n",
        "test_dataloader = PGDataLoader(dataset = data_test, batch_size = batch_size)\n",
        "\n",
        "# define loss function\n",
        "loss_function = MSELoss()\n",
        "\n",
        "# define optimiser\n",
        "optimiser = torch.optim.Adam(gnn_model.parameters(), lr = 1e-3)"
      ],
      "metadata": {
        "colab": {
          "base_uri": "https://localhost:8080/"
        },
        "id": "4k6FolOF32Zq",
        "outputId": "5aa25dd5-691d-4fc3-a0e1-47c746658b3f"
      },
      "execution_count": 35,
      "outputs": [
        {
          "output_type": "stream",
          "name": "stderr",
          "text": [
            "/usr/local/lib/python3.10/dist-packages/torch_geometric/deprecation.py:26: UserWarning: 'data.DataLoader' is deprecated, use 'loader.DataLoader' instead\n",
            "  warnings.warn(out)\n"
          ]
        }
      ]
    },
    {
      "cell_type": "code",
      "source": [
        "def gcn_get_r2_score():\n",
        "    y_pred = []\n",
        "    y_real = []\n",
        "    with torch.no_grad():\n",
        "        for (k, batch) in enumerate(test_dataloader):\n",
        "            output = gnn_model(batch.to(device))\n",
        "            y_pred = np.concatenate([y_pred, np.array(output[:,0])])\n",
        "            y_real = np.concatenate([y_real, np.array(batch.y)])\n",
        "    return r2_score(y_pred, y_real)"
      ],
      "metadata": {
        "id": "Y5Pp_OT-CNLy"
      },
      "execution_count": 36,
      "outputs": []
    },
    {
      "cell_type": "code",
      "source": [
        "start_time = timer()\n",
        "r2_score_value_gcn = []\n",
        "\n",
        "for epoch in range(1, EPOCHS):\n",
        "\n",
        "    losses = []\n",
        "\n",
        "    # set model to training mode\n",
        "    gnn_model.train()\n",
        "\n",
        "    # loop over minibatches for training\n",
        "    for (k, batch) in enumerate(train_dataloader):\n",
        "        output = gnn_model(batch.to(device))\n",
        "        loss_function_value = loss_function(output[:,0], batch.y)\n",
        "        losses.append(loss_function_value.detach().cpu())\n",
        "        # set past gradient to zero\n",
        "        optimiser.zero_grad()\n",
        "\n",
        "        # compute current gradient via backward pass\n",
        "        loss_function_value.backward()\n",
        "\n",
        "        # update model weights using gradient and optimisation method\n",
        "        optimiser.step()\n",
        "    r2_score_value_gcn.append(gcn_get_r2_score())\n",
        "    if epoch % (EPOCHS // 5) == 0:\n",
        "        print('Loss: ', np.mean(losses), ' | Epochs: ', epoch)\n",
        "end_time = timer()"
      ],
      "metadata": {
        "colab": {
          "base_uri": "https://localhost:8080/"
        },
        "id": "J8dj3Z7o3-Zl",
        "outputId": "06e73f54-14f3-4ddc-89e4-0895e5227542"
      },
      "execution_count": 37,
      "outputs": [
        {
          "output_type": "stream",
          "name": "stdout",
          "text": [
            "Loss:  0.039183065  | Epochs:  20\n",
            "Loss:  0.029640473  | Epochs:  40\n",
            "Loss:  0.026358109  | Epochs:  60\n",
            "Loss:  0.024438052  | Epochs:  80\n"
          ]
        }
      ]
    },
    {
      "cell_type": "code",
      "source": [
        "print('GCN R2 score:', gcn_get_r2_score())\n",
        "print('Epochs:', EPOCHS)\n",
        "print(f\"Total training time: {end_time-start_time:.3f} seconds\")\n",
        "gcn_time = end_time-start_time"
      ],
      "metadata": {
        "colab": {
          "base_uri": "https://localhost:8080/"
        },
        "id": "FJKJ5GNL4QiI",
        "outputId": "53dec19e-9af0-4ac2-af82-73e3f119e106"
      },
      "execution_count": 38,
      "outputs": [
        {
          "output_type": "stream",
          "name": "stdout",
          "text": [
            "GCN R2 score: 0.9718582091680329\n",
            "Epochs: 100\n",
            "Total training time: 600.158 seconds\n"
          ]
        }
      ]
    },
    {
      "cell_type": "code",
      "source": [
        "epochs_list = [i for i in range(1, EPOCHS)]\n",
        "plt.figure(figsize=(10, 6))\n",
        "plt.plot(epochs_list, r2_score_value_maccs, label=f'MACCS Fingeprints ({maccs_time:.3f} s)')\n",
        "plt.plot(epochs_list, r2_score_value_fp, label=f'Morgan Fingerprints ({fp_time:.3f} s)')\n",
        "plt.plot(epochs_list, r2_score_value_gcn, label=f'GCN ({gcn_time:.3f} s)')\n",
        "plt.xlabel('Epochs')\n",
        "plt.ylabel('R2 Score')\n",
        "plt.title('MACCS vs Morgan vs GCN')\n",
        "plt.legend()\n",
        "plt.grid(True)\n",
        "plt.show()"
      ],
      "metadata": {
        "colab": {
          "base_uri": "https://localhost:8080/",
          "height": 532
        },
        "id": "615Lv5NdD8Ly",
        "outputId": "1d471369-e929-4f9a-d2c0-6307ab96e9ec"
      },
      "execution_count": 39,
      "outputs": [
        {
          "output_type": "display_data",
          "data": {
            "text/plain": [
              "<Figure size 1000x600 with 1 Axes>"
            ],
            "image/png": "[encoded data removed]"
          },
          "metadata": {}
        }
      ]
    }
  ]
}